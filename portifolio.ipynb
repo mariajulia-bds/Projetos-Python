{
  "nbformat": 4,
  "nbformat_minor": 0,
  "metadata": {
    "colab": {
      "provenance": [],
      "authorship_tag": "ABX9TyNbZeYzcCt40XluXp/27n64",
      "include_colab_link": true
    },
    "kernelspec": {
      "name": "python3",
      "display_name": "Python 3"
    },
    "language_info": {
      "name": "python"
    }
  },
  "cells": [
    {
      "cell_type": "markdown",
      "metadata": {
        "id": "view-in-github",
        "colab_type": "text"
      },
      "source": [
        "<a href=\"https://colab.research.google.com/github/mariajulia-bds/Projetos-Python/blob/main/portifolio.ipynb\" target=\"_parent\"><img src=\"https://colab.research.google.com/assets/colab-badge.svg\" alt=\"Open In Colab\"/></a>"
      ]
    },
    {
      "cell_type": "markdown",
      "source": [
        "Inserir 3 itens e binarizar caracteristicas. Em seguida, demonstrar a menor distância, imagens mais similares."
      ],
      "metadata": {
        "id": "b31DqB1gFypA"
      }
    },
    {
      "cell_type": "code",
      "execution_count": null,
      "metadata": {
        "id": "6UJa8RJYFvPz"
      },
      "outputs": [],
      "source": [
        "# Dando caracteristicas a 'carro', 'moto', e 'bicicleta'.\n",
        "# dentro de um {conjunto}, pra depois transforma em lista.\n",
        "\n",
        "carro = {'roda','porta','retrovisor','marcha','freio','neutro','chave','combustivel'}\n",
        "moto = {'freio','retrovisor','chave','marcha','neutro','roda','corrente'}\n",
        "bicicleta = {'roda','ferio','pedal','guidão','corrente'}\n"
      ]
    },
    {
      "cell_type": "code",
      "source": [
        "# Preciso achar a união dos itens 'carro','moto','bicicleta'.\n",
        "# A união entre eles vai virar o conjunto UNIVERSO\n",
        "# usando o .union( ) = UNI\n",
        "\n",
        "carro.union(moto).union(bicicleta)\n"
      ],
      "metadata": {
        "colab": {
          "base_uri": "https://localhost:8080/"
        },
        "id": "B7vGEnM2F79_",
        "outputId": "b6c2aa3d-c9b2-4ea4-f951-cb8e6c070682"
      },
      "execution_count": 136,
      "outputs": [
        {
          "output_type": "execute_result",
          "data": {
            "text/plain": [
              "{'chave',\n",
              " 'combustivel',\n",
              " 'corrente',\n",
              " 'ferio',\n",
              " 'freio',\n",
              " 'guidão',\n",
              " 'marcha',\n",
              " 'neutro',\n",
              " 'pedal',\n",
              " 'porta',\n",
              " 'retrovisor',\n",
              " 'roda'}"
            ]
          },
          "metadata": {},
          "execution_count": 136
        }
      ]
    },
    {
      "cell_type": "code",
      "source": [
        "universo = carro.union(moto).union(bicicleta)"
      ],
      "metadata": {
        "id": "gxtmxd76F-0v"
      },
      "execution_count": 137,
      "outputs": []
    },
    {
      "cell_type": "code",
      "source": [
        "# vou ter que importa o numpy da biblioteca para poder importa operações\n",
        "# matemáticas de forma não manual.\n",
        "\n",
        "import numpy as np\n"
      ],
      "metadata": {
        "id": "AgM0RBezGA6X"
      },
      "execution_count": 138,
      "outputs": []
    },
    {
      "cell_type": "code",
      "source": [
        "# NP.ISIN = retonar um array boleano onde cada valor vai ser true se estiver\n",
        "# nos arrays correspondentes.\n",
        "# NP.ARRAY =  operações matematicas com bastante eficiencia e rapidez.\n",
        "# ASTYP(INT) = converte o array boleano do np.isin para array inteiro = (0,1).\n",
        "\n",
        "# Quando eu quiser mostrar o resultado de cada um dos vetores é só eu escrever\n",
        "# ex: un_carro\n",
        "\n",
        "un = np.isin(list(universo), np.array(list(universo))).astype(int)\n",
        "un_carro = np.isin(list(universo), np.array(list(carro))).astype(int)\n",
        "un_moto = np.isin(list(universo), np.array(list(moto))).astype(int)\n",
        "un_bicicleta = np.isin(list(universo), np.array(list(bicicleta))).astype(int)\n",
        "un_carro"
      ],
      "metadata": {
        "colab": {
          "base_uri": "https://localhost:8080/"
        },
        "id": "JEqvaKvQGEbn",
        "outputId": "c9c1e835-2ffd-446f-9a55-037012be6e45"
      },
      "execution_count": 147,
      "outputs": [
        {
          "output_type": "execute_result",
          "data": {
            "text/plain": [
              "array([0, 1, 0, 1, 1, 1, 0, 1, 1, 1, 0, 1])"
            ]
          },
          "metadata": {},
          "execution_count": 147
        }
      ]
    },
    {
      "cell_type": "code",
      "source": [
        "un_bicicleta"
      ],
      "metadata": {
        "colab": {
          "base_uri": "https://localhost:8080/"
        },
        "id": "1F46DKDEGGSn",
        "outputId": "fe7e1104-b90a-49ec-e735-9c8ad9e9032e"
      },
      "execution_count": 141,
      "outputs": [
        {
          "output_type": "execute_result",
          "data": {
            "text/plain": [
              "array([1, 0, 1, 0, 1, 0, 1, 0, 0, 0, 1, 0])"
            ]
          },
          "metadata": {},
          "execution_count": 141
        }
      ]
    },
    {
      "cell_type": "code",
      "source": [
        "un_moto"
      ],
      "metadata": {
        "colab": {
          "base_uri": "https://localhost:8080/"
        },
        "id": "Jsw2sGdPGJKH",
        "outputId": "ef4df877-c363-4eca-fb86-9798c6a7ba2b"
      },
      "execution_count": 142,
      "outputs": [
        {
          "output_type": "execute_result",
          "data": {
            "text/plain": [
              "array([0, 1, 0, 1, 1, 0, 0, 1, 1, 1, 1, 0])"
            ]
          },
          "metadata": {},
          "execution_count": 142
        }
      ]
    },
    {
      "cell_type": "code",
      "source": [
        "carro_moto = np.linalg.norm(un_carro - un_moto)\n",
        "carro_moto\n"
      ],
      "metadata": {
        "colab": {
          "base_uri": "https://localhost:8080/"
        },
        "id": "h5ut5l80GK--",
        "outputId": "1a9a8e2e-62e5-4105-f5ac-e4be06337ba8"
      },
      "execution_count": 143,
      "outputs": [
        {
          "output_type": "execute_result",
          "data": {
            "text/plain": [
              "np.float64(1.7320508075688772)"
            ]
          },
          "metadata": {},
          "execution_count": 143
        }
      ]
    },
    {
      "cell_type": "code",
      "source": [
        "moto_bicicleta = np.linalg.norm(un_moto - un_bicicleta)\n",
        "moto_bicicleta"
      ],
      "metadata": {
        "colab": {
          "base_uri": "https://localhost:8080/"
        },
        "id": "eF9Atxn7GMve",
        "outputId": "a4ae3cf8-3760-4aa0-8703-1c4498708b62"
      },
      "execution_count": 144,
      "outputs": [
        {
          "output_type": "execute_result",
          "data": {
            "text/plain": [
              "np.float64(2.8284271247461903)"
            ]
          },
          "metadata": {},
          "execution_count": 144
        }
      ]
    },
    {
      "cell_type": "code",
      "source": [
        "carro_bicicleta =np.linalg.norm(un_carro - un_bicicleta)\n",
        "carro_bicicleta"
      ],
      "metadata": {
        "colab": {
          "base_uri": "https://localhost:8080/"
        },
        "id": "FVN_Xfv9GOoe",
        "outputId": "dc84b61b-f7c6-46dd-f43c-dd68a773c3d7"
      },
      "execution_count": 145,
      "outputs": [
        {
          "output_type": "execute_result",
          "data": {
            "text/plain": [
              "np.float64(3.3166247903554)"
            ]
          },
          "metadata": {},
          "execution_count": 145
        }
      ]
    },
    {
      "cell_type": "code",
      "source": [
        "((carro_moto < moto_bicicleta) and (carro_moto < carro_bicicleta))*'carro_moto' +\\\n",
        "((moto_bicicleta < carro_bicicleta) and (moto_bicicleta < carro_moto))*'moto_bicicleta' +\\\n",
        "((carro_bicicleta < carro_moto) and (carro_bicicleta < moto_bicicleta))*'carro_bicicleta'\n",
        "\n"
      ],
      "metadata": {
        "colab": {
          "base_uri": "https://localhost:8080/",
          "height": 140
        },
        "id": "LlNgA7OuGXXu",
        "outputId": "d52db722-948f-40e4-df6e-8b304ae09fae"
      },
      "execution_count": 146,
      "outputs": [
        {
          "output_type": "stream",
          "name": "stderr",
          "text": [
            "<ipython-input-146-d0dc42a1bf8f>:1: DeprecationWarning: In future, it will be an error for 'np.bool' scalars to be interpreted as an index\n",
            "  ((carro_moto < moto_bicicleta) and (carro_moto < carro_bicicleta))*'carro_moto' +\\\n",
            "<ipython-input-146-d0dc42a1bf8f>:2: DeprecationWarning: In future, it will be an error for 'np.bool' scalars to be interpreted as an index\n",
            "  ((moto_bicicleta < carro_bicicleta) and (moto_bicicleta < carro_moto))*'moto_bicicleta' +\\\n",
            "<ipython-input-146-d0dc42a1bf8f>:3: DeprecationWarning: In future, it will be an error for 'np.bool' scalars to be interpreted as an index\n",
            "  ((carro_bicicleta < carro_moto) and (carro_bicicleta < moto_bicicleta))*'carro_bicicleta'\n"
          ]
        },
        {
          "output_type": "execute_result",
          "data": {
            "text/plain": [
              "'carro_moto'"
            ],
            "application/vnd.google.colaboratory.intrinsic+json": {
              "type": "string"
            }
          },
          "metadata": {},
          "execution_count": 146
        }
      ]
    },
    {
      "cell_type": "markdown",
      "source": [
        "Inserir 3 itens e binarizar caracteristicas. Em seguida, demonstrar a menor distância, imagens mais similares."
      ],
      "metadata": {
        "id": "O5ZD456gtdgz"
      }
    },
    {
      "cell_type": "code",
      "source": [
        "# Dando caracteristicas a 'rosa', 'cacto', e 'girassol'.\n",
        "# dentro de um {conjunto}, pra depois transforma em lista.\n",
        "\n",
        "rosa = {'vermelha','espinho','petalas','caule'}\n",
        "cacto = {'caule','espinho','verde'}\n",
        "girassol = {'amarela','caule','semente','petalas'}\n",
        "\n",
        "# Preciso achar a união dos itens 'rosa','cacto','girassol'.\n",
        "# A união entre eles vai virar o conjunto UNIVERSO\n",
        "# usando o .union( ) = UNI\n",
        "\n",
        "universo = rosa.union(cacto).union(girassol)\n",
        "\n",
        "# vou ter que importa o numpy da biblioteca para poder importa operações\n",
        "# matemáticas de forma não manual.\n",
        "\n",
        "import numpy as np\n",
        "\n",
        "# NP.ISIN = retonar um array boleano onde cada valor vai ser true se estiver\n",
        "# nos arrays correspondentes.\n",
        "# NP.ARRAY =  operações matematicas com bastante eficiencia e rapidez.\n",
        "# ASTYP(INT) = converte o array boleano do np.isin para array inteiro = (0,1).\n",
        "\n",
        "un = np.isin(list(universo),np.array(list(universo))).astype(int)\n",
        "un_rosa = np.isin(list(universo),np.array(list(rosa))).astype(int)\n",
        "un_cacto = np.isin(list(universo),np.array(list(cacto))).astype(int)\n",
        "un_girassol = np.isin(list(universo),np.array(list(girassol))).astype(int)\n",
        "\n",
        "# Quando eu quiser mostrar o resultado de cada um dos vetores é só eu escrever\n",
        "# ex: un_rosa =\n",
        "un_rosa\n",
        "\n"
      ],
      "metadata": {
        "id": "DqtUxIcstzgS",
        "colab": {
          "base_uri": "https://localhost:8080/"
        },
        "outputId": "7834ebe2-afd9-4944-cce3-3ef0f6793637"
      },
      "execution_count": 109,
      "outputs": [
        {
          "output_type": "execute_result",
          "data": {
            "text/plain": [
              "array([1, 1, 0, 1, 0, 0, 1])"
            ]
          },
          "metadata": {},
          "execution_count": 109
        }
      ]
    },
    {
      "cell_type": "code",
      "source": [
        "un_cacto"
      ],
      "metadata": {
        "colab": {
          "base_uri": "https://localhost:8080/"
        },
        "id": "IMBaGdewMoSn",
        "outputId": "2041fcdf-c52b-4e3c-9877-5a54e9ac73fc"
      },
      "execution_count": 110,
      "outputs": [
        {
          "output_type": "execute_result",
          "data": {
            "text/plain": [
              "array([0, 0, 1, 1, 0, 0, 1])"
            ]
          },
          "metadata": {},
          "execution_count": 110
        }
      ]
    },
    {
      "cell_type": "code",
      "source": [
        "un_girassol"
      ],
      "metadata": {
        "colab": {
          "base_uri": "https://localhost:8080/"
        },
        "id": "yuFgHNvVM6KI",
        "outputId": "08cd4461-45f1-4018-f7db-25a47db21602"
      },
      "execution_count": 111,
      "outputs": [
        {
          "output_type": "execute_result",
          "data": {
            "text/plain": [
              "array([1, 0, 0, 1, 1, 1, 0])"
            ]
          },
          "metadata": {},
          "execution_count": 111
        }
      ]
    },
    {
      "cell_type": "code",
      "source": [
        "# NP.LINALG.NORM = ele faz a medição do 'tamanho', ou 'comprimento' dos vetores.\n",
        "\n",
        "rosa_cacto = np.linalg.norm(un_rosa - un_cacto)\n",
        "rosa_girassol = np.linalg.norm(un_rosa - un_girassol)\n",
        "cacto_girassol = np.linalg.norm(un_cacto - un_girassol)"
      ],
      "metadata": {
        "id": "iseHc2wfM8kW"
      },
      "execution_count": 112,
      "outputs": []
    },
    {
      "cell_type": "code",
      "source": [
        "rosa_cacto"
      ],
      "metadata": {
        "colab": {
          "base_uri": "https://localhost:8080/"
        },
        "id": "62ud8fEZPDlW",
        "outputId": "2cb4d710-a93a-4d47-f1e7-406480897638"
      },
      "execution_count": 129,
      "outputs": [
        {
          "output_type": "execute_result",
          "data": {
            "text/plain": [
              "np.float64(1.7320508075688772)"
            ]
          },
          "metadata": {},
          "execution_count": 129
        }
      ]
    },
    {
      "cell_type": "code",
      "source": [
        "rosa_girassol"
      ],
      "metadata": {
        "colab": {
          "base_uri": "https://localhost:8080/"
        },
        "id": "iboVusq3PlZV",
        "outputId": "de15db75-e982-4cd4-e789-cd9bd53a2416"
      },
      "execution_count": 130,
      "outputs": [
        {
          "output_type": "execute_result",
          "data": {
            "text/plain": [
              "np.float64(2.0)"
            ]
          },
          "metadata": {},
          "execution_count": 130
        }
      ]
    },
    {
      "cell_type": "code",
      "source": [
        "cacto_girassol"
      ],
      "metadata": {
        "colab": {
          "base_uri": "https://localhost:8080/"
        },
        "id": "86wkCRoQPpl-",
        "outputId": "e590c35a-c86d-4c44-963b-7c25033f456e"
      },
      "execution_count": 131,
      "outputs": [
        {
          "output_type": "execute_result",
          "data": {
            "text/plain": [
              "np.float64(2.23606797749979)"
            ]
          },
          "metadata": {},
          "execution_count": 131
        }
      ]
    },
    {
      "cell_type": "code",
      "source": [
        "((rosa_cacto < rosa_girassol) and (rosa_cacto < cacto_girassol))*'rosa cacto' +\\\n",
        "((rosa_girassol < rosa_cacto) and (rosa_girassol < cacto_girassol))*'rosa girassol' +\\\n",
        "((cacto_girassol < rosa_cacto) and (cacto_girassol < rosa_girassol))*'cacto girassol'"
      ],
      "metadata": {
        "colab": {
          "base_uri": "https://localhost:8080/",
          "height": 140
        },
        "id": "SYJnp65yQbOt",
        "outputId": "95eea926-abc5-4176-a7a9-df0249de7ccc"
      },
      "execution_count": 128,
      "outputs": [
        {
          "output_type": "stream",
          "name": "stderr",
          "text": [
            "<ipython-input-128-9d6b797c3c3f>:1: DeprecationWarning: In future, it will be an error for 'np.bool' scalars to be interpreted as an index\n",
            "  ((rosa_cacto < rosa_girassol) and (rosa_cacto < cacto_girassol))*'rosa cacto' +\\\n",
            "<ipython-input-128-9d6b797c3c3f>:2: DeprecationWarning: In future, it will be an error for 'np.bool' scalars to be interpreted as an index\n",
            "  ((rosa_girassol < rosa_cacto) and (rosa_girassol < cacto_girassol))*'rosa girassol' +\\\n",
            "<ipython-input-128-9d6b797c3c3f>:3: DeprecationWarning: In future, it will be an error for 'np.bool' scalars to be interpreted as an index\n",
            "  ((cacto_girassol < rosa_cacto) and (cacto_girassol < rosa_girassol))*'cacto girassol'\n"
          ]
        },
        {
          "output_type": "execute_result",
          "data": {
            "text/plain": [
              "'rosa cacto'"
            ],
            "application/vnd.google.colaboratory.intrinsic+json": {
              "type": "string"
            }
          },
          "metadata": {},
          "execution_count": 128
        }
      ]
    }
  ]
}